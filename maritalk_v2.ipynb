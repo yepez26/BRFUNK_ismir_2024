{
  "nbformat": 4,
  "nbformat_minor": 0,
  "metadata": {
    "colab": {
      "provenance": [],
      "mount_file_id": "1yCSMPBfJ8fczmv9Zr-IU-Uml5XRqkUDM",
      "authorship_tag": "ABX9TyO90TATl4v6l3tYlJnkYjuN",
      "include_colab_link": true
    },
    "kernelspec": {
      "name": "python3",
      "display_name": "Python 3"
    },
    "language_info": {
      "name": "python"
    }
  },
  "cells": [
    {
      "cell_type": "markdown",
      "metadata": {
        "id": "view-in-github",
        "colab_type": "text"
      },
      "source": [
        "<a href=\"https://colab.research.google.com/github/yepez26/BRFUNK_ismir_2024/blob/main/maritalk_v2.ipynb\" target=\"_parent\"><img src=\"https://colab.research.google.com/assets/colab-badge.svg\" alt=\"Open In Colab\"/></a>"
      ]
    },
    {
      "cell_type": "code",
      "execution_count": null,
      "metadata": {
        "id": "qR3qYUUoMeoW",
        "colab": {
          "base_uri": "https://localhost:8080/"
        },
        "outputId": "50024cf5-2956-48e4-cee8-0235911d6cf7"
      },
      "outputs": [
        {
          "output_type": "stream",
          "name": "stdout",
          "text": [
            "Collecting maritalk\n",
            "  Downloading maritalk-0.1.8-py3-none-any.whl (13 kB)\n",
            "Requirement already satisfied: requests in /usr/local/lib/python3.10/dist-packages (from maritalk) (2.31.0)\n",
            "Requirement already satisfied: tqdm in /usr/local/lib/python3.10/dist-packages (from maritalk) (4.66.1)\n",
            "Requirement already satisfied: charset-normalizer<4,>=2 in /usr/local/lib/python3.10/dist-packages (from requests->maritalk) (3.3.2)\n",
            "Requirement already satisfied: idna<4,>=2.5 in /usr/local/lib/python3.10/dist-packages (from requests->maritalk) (3.6)\n",
            "Requirement already satisfied: urllib3<3,>=1.21.1 in /usr/local/lib/python3.10/dist-packages (from requests->maritalk) (2.0.7)\n",
            "Requirement already satisfied: certifi>=2017.4.17 in /usr/local/lib/python3.10/dist-packages (from requests->maritalk) (2023.11.17)\n",
            "Installing collected packages: maritalk\n",
            "Successfully installed maritalk-0.1.8\n"
          ]
        }
      ],
      "source": [
        "pip install maritalk"
      ]
    },
    {
      "cell_type": "code",
      "source": [
        "import pandas as pd\n",
        "import numpy as np\n",
        "import maritalk\n",
        "import random\n",
        "import IPython\n",
        "# from IPython.core.debugger import set_trace\n"
      ],
      "metadata": {
        "id": "duuQvTGbMlfa"
      },
      "execution_count": null,
      "outputs": []
    },
    {
      "cell_type": "code",
      "source": [
        "lyrics = pd.read_excel('/content/drive/MyDrive/UFRGS/mestrado/matitalk/base_estrofes_ext.xlsx')"
      ],
      "metadata": {
        "id": "nRh68LQbMmAS"
      },
      "execution_count": null,
      "outputs": []
    },
    {
      "cell_type": "code",
      "source": [
        "\n",
        "musicas_teste = [ 'Quem Vai Patrocinar? (part. MC IG)',\n",
        "                 'Melanina (part. MC 7 Belo)',\n",
        "                 'Banco do Carona (part. Don Juan, Marks, Joaozinho VT, Kako, Robs, Gabb e Vine 7)',\n",
        "                 'Meca Cereja (part. Kayblack e Vulgo FK)',\n",
        "                 'Melhor Opção (part. MC Kadu e MC Kanhoto)',\n",
        "                 'Rap do Solitário',\n",
        "                  'Amor Só de Mãe',\n",
        "                 'A Favela Venceu',\n",
        "                 'Obrigado, Mãe (Pt. 2) (part. Dfideliz)',\n",
        "                 'Hit do Ano - O Peso da Luta (part. MC Leozinho ZS, MC Don Juan, MC IG, MC Menor da VG, MC Neguinho do Kaxeta, MC Marks, MC Kevin, MC Lele JP, MC Ryan SP, MC Vitão do Savoy e MC Kelvinho)',\n",
        "                 '2023 (part. MC Kadu e MC GP)'\n",
        "                 ]\n",
        "\n",
        "# base reduzida com músicas de teste\n",
        "lyrics_test = lyrics[lyrics['musica'].isin(musicas_teste)].reset_index(drop=True)\n"
      ],
      "metadata": {
        "id": "fG9v1xNEMn97"
      },
      "execution_count": null,
      "outputs": []
    },
    {
      "cell_type": "code",
      "source": [
        "#parameters\n",
        "\n",
        "num_iter = 20 # numero de vezes que será repetida a interação\n",
        "num_groups = 20 # numero de grupos diferente que será separada cada interação\n",
        "num_topicos = 5 # numero de tópicos que será perguntado o modelo\n",
        "aux_dic = {number: ['topics:'] for number in range(0,num_topicos)} # dicionario auxiliar para montagem de base final\n",
        "tamanho = len(lyrics_test)"
      ],
      "metadata": {
        "id": "gOE6YjalMpqC"
      },
      "execution_count": null,
      "outputs": []
    },
    {
      "cell_type": "code",
      "source": [
        "# definindo os do prompt\n",
        "\n",
        "model = maritalk.MariTalk(key=\"\")\n",
        "template1 = \"dado os seguintes trechos de música, sugera {} tópicos que descrevem os assuntos abordados: \".format(num_topicos)"
      ],
      "metadata": {
        "id": "tBsFhjifQBh_"
      },
      "execution_count": null,
      "outputs": []
    },
    {
      "cell_type": "code",
      "source": [],
      "metadata": {
        "id": "kKNgUeQYXBO6"
      },
      "execution_count": null,
      "outputs": []
    },
    {
      "cell_type": "code",
      "source": [
        "# %xmode Verbose\n",
        "# %pdb on\n",
        "\n",
        "lista_dfs = [] # lista onde vão ser salvo os dfs de cada iteração\n",
        "\n",
        "for iter in range(0,num_iter):\n",
        "\n",
        "    random.seed(iter)\n",
        "    df_1_volta = pd.DataFrame() # df com o resultado final de topicos ao longo de 1 iteração\n",
        "    # definido os trechos de comparação aletóriamente usando a biblioteca random\n",
        "    list_sample = []\n",
        "    for i in range(0,tamanho):\n",
        "      list_sample.append(random.randrange(0,num_groups))\n",
        "\n",
        "    lyrics_test['sample'] = list_sample\n",
        "\n",
        "    # fazendo a iteração dentro dos grupos criados\n",
        "    # df_aux1 = pd.DataFrame()\n",
        "    for grupo in range(0,num_groups):\n",
        "\n",
        "        # filtrar musicas do grupo\n",
        "        lista_trechos = list(lyrics_test[lyrics_test['sample']==grupo]['trecho'].reset_index(drop=True))\n",
        "\n",
        "        # string com trechos músicas\n",
        "        string_trechos = ['trecho {}: '.format(i) + lista_trechos[i] for i in range(0,len(lista_trechos))]\n",
        "        string_trechos = '; '.join(string_trechos) + ' '\n",
        "\n",
        "        #template com frases do grupo\n",
        "        template2 = template1 + string_trechos\n",
        "\n",
        "        # chamda modelo\n",
        "        answer = model.generate(\n",
        "            template2,\n",
        "          do_sample=True,\n",
        "            # max_tokens=200,\n",
        "            temperature=0.7,\n",
        "            top_p=0.95)\n",
        "\n",
        "        # splitar respostas em lista\n",
        "        list_answer = answer.split('\\n')\n",
        "\n",
        "        # df auxiliar final\n",
        "        df_aux = pd.DataFrame()\n",
        "        df_aux['trechos'] = lista_trechos\n",
        "\n",
        "        for col in aux_dic.keys():\n",
        "          df_aux[col] = str(aux_dic[col])\n",
        "\n",
        "        for i in range(0,num_topicos):\n",
        "          # concat horizontal two list\n",
        "          df_aux[i] = df_aux[i]+str(list_answer[i])\n",
        "\n",
        "        df_1_volta = df_1_volta.append(df_aux)\n",
        "        # set_trace()\n",
        "\n",
        "    df_1_volta.to_excel('/content/drive/MyDrive/UFRGS/mestrado/matitalk/base/base_topics_{}.xlsx'.format(iter))\n",
        "    lista_dfs.append([df_1_volta])\n",
        "    # set_trace()\n",
        "\n",
        "\n",
        "\n"
      ],
      "metadata": {
        "id": "xYaskvgwNxci"
      },
      "execution_count": null,
      "outputs": []
    }
  ]
}